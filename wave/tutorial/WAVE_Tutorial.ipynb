{
 "cells": [
  {
   "cell_type": "markdown",
   "metadata": {},
   "source": [
    "# WAVE tutorial: a smart home\n",
    "\n",
    "WAVE is platform for delegable authorization. We are going to test it out by looking at some use cases in a smart home context. You can also use WAVE for securing other things, like APIs, but this is a fun tutorial to cover the basics.\n",
    "\n",
    "## Open up a second tab\n",
    "\n",
    "We are going to open a new tab for this same notebook that you can leave pointing at your virtual devices by right clicking the notebook tab and clicking \"New View for Notebook\". This is optional, but it makes it easier to switch back and forth between coding and viewing the state of devices in your house.\n",
    "\n",
    "![New View](scaffold/NewView.png)\n",
    "\n",
    "Note that due to a quirk of Jupyter Lab, one of your tabs will display the devices, while the other will say \"Error creating widget\". This is normal. Use the one without the devices for doing the exercises, and the one with the devices just for checking on the smart home state.\n",
    "\n",
    "## Getting started\n",
    "\n",
    "The lines below will \"boot\" your house. There is a home server that acts as the root of authority for your house and all its devices. Give your house a unique nickname, as later you will be accessing data from other people's houses. "
   ]
  },
  {
   "cell_type": "code",
   "execution_count": null,
   "metadata": {
    "scrolled": false
   },
   "outputs": [],
   "source": [
    "from scaffold.tut import *\n",
    "\n",
    "# This is a name that other people around you will use to communicate with you. It is also used\n",
    "# to partition your communications on the shared MQTT server, so change it to something that nobody\n",
    "# else will pick, but it still easy enough to type when you get to exercises that require you to\n",
    "# share your nickname with someone else\n",
    "my_unique_nickname=\"john-smith\" # <<< CHANGE THIS\n",
    "\n",
    "# wave is a connection to the WAVE daemon, that you will use for authorization actions\n",
    "# homeserver is the control interface to your home server, allowing you to request permissions etc.\n",
    "# mqtt is a connection to the rise camp MQTT server that routes all commands and sensor information \n",
    "wave, homeserver, mqtt = Initialize(my_unique_nickname)"
   ]
  },
  {
   "cell_type": "markdown",
   "metadata": {},
   "source": [
    "## Your virtual home\n",
    "\n",
    "The set of devices rendered above represent your virtual home for this tutorial. The lightbulb represents the lights in your house. The front door motion sensor is a way to see if someone is at your door. The thermostat both does control of your house temperature but also offers an **occupied** signal that tells you if there are people home.\n",
    "\n",
    "The homeserver object has two useful functions. One is the `.namespace()` function which returns the hash of the namespace entity corresponding to your smart house. The other is for getting permissions, which we will see later. Try out the `namespace()` function now:"
   ]
  },
  {
   "cell_type": "code",
   "execution_count": null,
   "metadata": {},
   "outputs": [],
   "source": [
    "print (\"my namespace is: \",hashToBase64(homeserver.namespace()))"
   ]
  },
  {
   "cell_type": "markdown",
   "metadata": {},
   "source": [
    "## Creating your entity\n",
    "\n",
    "An *entity* represents a person or device. Your home server has an entity which is the root of permissions in the house, but every occupant of the house also needs their own entity so they can be granted permissions to interact with the house. Go ahead and create your entity by running the command below. \n",
    "\n",
    "Note that usually the command would be `entity = wave.CreateEntity(wv.CreateEntityParams())` but to make sure you don't lose your entity if you restart the notebook, we have made a wrapper that saves it to disk"
   ]
  },
  {
   "cell_type": "code",
   "execution_count": null,
   "metadata": {},
   "outputs": [],
   "source": [
    "entity, _ = createOrLoadEntity(wave, \"myEntity\")\n",
    "\n",
    "# a perspective is the form of an entity you use in calls to WAVE\n",
    "perspective = wv.Perspective(entitySecret=wv.EntitySecret(DER=entity.SecretDER))"
   ]
  },
  {
   "cell_type": "markdown",
   "metadata": {},
   "source": [
    "## Proofs of permission\n",
    "\n",
    "Let's try control the house with this brand new entity. To do so, we need to form a *proof of permissions* (spoiler: it should fail):\n"
   ]
  },
  {
   "cell_type": "code",
   "execution_count": null,
   "metadata": {},
   "outputs": [],
   "source": [
    "lightproof = wave.BuildRTreeProof(wv.BuildRTreeProofParams(\n",
    "    # our secret entity perspective\n",
    "    perspective=perspective,\n",
    "    # the domain of authority we are accessing. In this case it is OUR homeserver\n",
    "    namespace=homeserver.namespace(),\n",
    "    # Tell WAVE to look for new permissions\n",
    "    resyncFirst=True,\n",
    "    # what we want to prove\n",
    "    statements=[\n",
    "        wv.RTreePolicyStatement(\n",
    "            # This is a constant that represents a SET of permissions, so the permissions\n",
    "            # strings can be disambiguated (otherwise \"write\" could apply to every application)\n",
    "            permissionSet=smarthome_pset,\n",
    "            permissions=[\"write\"],\n",
    "            # This is the control resource for the light. There is also a /report interface\n",
    "            resource=\"smarthome/light/control\",\n",
    "        )\n",
    "    ]\n",
    "))\n",
    "\n",
    "# lets check if that worked:\n",
    "if lightproof.error.code != 0:\n",
    "    print (\"Proof building failed:\", lightproof.error.message)\n",
    "else:\n",
    "    print (\"Proof building succeeeded\")"
   ]
  },
  {
   "cell_type": "markdown",
   "metadata": {},
   "source": [
    "If this is the first time you've run the notebook, the above will fail. This is because this newly created entity has not been granted any permissions! Why should it be able to control the house? In real life, you would now communicate with a person/service that has the permissions you want and give them your entity hash. With this, they can grant you permissions. We will emulate that with a simple function call. This function asks the homeserver to create a bunch of attestations to grant us permission to control devices in the house."
   ]
  },
  {
   "cell_type": "code",
   "execution_count": null,
   "metadata": {},
   "outputs": [],
   "source": [
    "homeserver.grant_permissions_to(entity.hash)"
   ]
  },
  {
   "cell_type": "markdown",
   "metadata": {},
   "source": [
    "That grants you permissions to everything within the house, later we will do a permission grant from scratch, so you can see how it is done. For now, lets try building a proof again. This time it might take a little longer because it is busy discovering and decrypting all the new permissions that you just granted:"
   ]
  },
  {
   "cell_type": "code",
   "execution_count": null,
   "metadata": {},
   "outputs": [],
   "source": [
    "lightproof = wave.BuildRTreeProof(wv.BuildRTreeProofParams(\n",
    "    perspective=perspective,\n",
    "    namespace=homeserver.namespace(),\n",
    "    resyncFirst=True,\n",
    "    statements=[\n",
    "        wv.RTreePolicyStatement(\n",
    "            permissionSet=smarthome_pset,\n",
    "            permissions=[\"write\"],\n",
    "            resource=\"smarthome/light/control\",\n",
    "        )\n",
    "    ]\n",
    "))\n",
    "\n",
    "if lightproof.error.code != 0:\n",
    "    print (\"Proof building failed:\", lightproof.error.message)\n",
    "else:\n",
    "    print (\"Proof building succeeeded\")"
   ]
  },
  {
   "cell_type": "markdown",
   "metadata": {},
   "source": [
    "This should succeed. We can now attach this proof to a command we send to the light, and it will obey the command because it can verify we are authorized. For this demo, the smart home devices rendered at the top of the notebook are listening for commands on an MQTT topic unique to your nickname."
   ]
  },
  {
   "cell_type": "code",
   "execution_count": null,
   "metadata": {},
   "outputs": [],
   "source": [
    "mqtt.publish(my_unique_nickname+\"/smarthome/light/control\",\n",
    "#                      you can also use {\"state\":\"off\"}\n",
    "             composeMessage(lightproof, {\"state\":\"on\"}))"
   ]
  },
  {
   "cell_type": "markdown",
   "metadata": {},
   "source": [
    "If you switch over to your smart home devices tab you should see that the light has turned on. "
   ]
  },
  {
   "cell_type": "markdown",
   "metadata": {},
   "source": [
    "In addition to controlling lights, you can also form a proof for writing to the message box. The message box is emulating a notification system."
   ]
  },
  {
   "cell_type": "code",
   "execution_count": null,
   "metadata": {},
   "outputs": [],
   "source": [
    "msgproof = wave.BuildRTreeProof(wv.BuildRTreeProofParams(\n",
    "    perspective=perspective,\n",
    "    namespace=homeserver.namespace(),\n",
    "    resyncFirst=True,\n",
    "    statements=[\n",
    "        wv.RTreePolicyStatement(\n",
    "            permissionSet=smarthome_pset,\n",
    "            permissions=[\"write\"],\n",
    "            # This is the resource for the message box\n",
    "            resource=\"smarthome/notify\",\n",
    "        )\n",
    "    ]\n",
    "))\n",
    "\n",
    "if msgproof.error.code != 0:\n",
    "    print (\"Proof building failed:\", msgproof.error.message)\n",
    "else:\n",
    "    print (\"Proof building succeeeded\")"
   ]
  },
  {
   "cell_type": "markdown",
   "metadata": {},
   "source": [
    "You send messages to it the same way you do for the light:"
   ]
  },
  {
   "cell_type": "code",
   "execution_count": null,
   "metadata": {},
   "outputs": [],
   "source": [
    "mqtt.publish(my_unique_nickname+\"/smarthome/notify\",\n",
    "                  composeMessage(msgproof, \"hello world\"))"
   ]
  },
  {
   "cell_type": "markdown",
   "metadata": {},
   "source": [
    "Now that you have sent some authorization proofs attached to messages, let's walk through how you would decrypt and validate a message that you receive. Let's subscribe to the thermostat report topic. This will give us a stream of messages that we can process and use to make the light mirror the occupancy report from the thermostat.\n",
    "\n",
    "NOTE: this tutorial is trying to teach you how to use WAVE at a lower level. Typically you would use something like WAVEMQ instead of MQTT which would do all the message decryption and validation for you, but for the purposes of teaching how to integrate WAVE with third party applications, we are doing it from scratch:"
   ]
  },
  {
   "cell_type": "code",
   "execution_count": null,
   "metadata": {},
   "outputs": [],
   "source": [
    "def thermostat_cb(msg):\n",
    "    # first decrypt the message\n",
    "    resp = wave.DecryptMessage(wv.DecryptMessageParams(\n",
    "        perspective= perspective,\n",
    "        ciphertext= msg.payload,\n",
    "        resyncFirst= True))\n",
    "    if resp.error.code != 0:\n",
    "        print (\"dropping thermostat message:\", resp.error.message)\n",
    "        return\n",
    "    # then break it up into proof + body\n",
    "    proof, body = decomposeMessage(resp.content)\n",
    "    \n",
    "    # now validate the proof\n",
    "    resp = wave.VerifyProof(wv.VerifyProofParams(\n",
    "        proofDER=proof,\n",
    "        requiredRTreePolicy=wv.RTreePolicy(\n",
    "            namespace=homeserver.namespace(),\n",
    "            statements=[wv.RTreePolicyStatement(\n",
    "                permissionSet=smarthome_pset,\n",
    "                permissions=[\"write\"],\n",
    "                resource=\"smarthome/thermostat/report\",\n",
    "            )]\n",
    "        )\n",
    "    ))\n",
    "    if resp.error.code != 0:\n",
    "        print (\"dropping message: \", resp.error.message)\n",
    "        return\n",
    "        \n",
    "    # the proof is valid! we can use the message now.\n",
    "    house_occupied = body[\"occupied\"] # True or False\n",
    "    \n",
    "    # **TODO**\n",
    "    # fill in some code here to turn the light on if the house is occupied, and off otherwise \n",
    "    # HINT: you can copy from a previous mqtt publish cell and make a small change\n",
    "    \n",
    "    \n",
    "mqtt.subscribe(my_unique_nickname+\"/smarthome/thermostat/report\", thermostat_cb)"
   ]
  },
  {
   "cell_type": "markdown",
   "metadata": {},
   "source": [
    "If you get stuck, you can run the cell below to show the solution. Run the cell again to execute the solution"
   ]
  },
  {
   "cell_type": "code",
   "execution_count": null,
   "metadata": {},
   "outputs": [],
   "source": [
    "%load scaffold/solution1.py"
   ]
  },
  {
   "cell_type": "markdown",
   "metadata": {},
   "source": [
    "You have now created a controller that consumes secure feeds and produces a control feed! The thermostat occupancy value changes by itself every few seconds, so you should be able to see your light turn on when the occupied value (to the right of the thermostat) reads true.\n",
    "\n",
    "**Important** you must run the cell below to replace your controller with a no-op otherwise it will fight with later exercises:\n"
   ]
  },
  {
   "cell_type": "code",
   "execution_count": null,
   "metadata": {},
   "outputs": [],
   "source": [
    "mqtt.subscribe(my_unique_nickname+\"/smarthome/thermostat/report\", lambda x:x)"
   ]
  },
  {
   "cell_type": "markdown",
   "metadata": {},
   "source": [
    "## Interacting across namespaces\n",
    "\n",
    "You are a good neighbor and you like to help out. Your neighbor is away on vacation, so you want to tie their house lights to yours so that their house seems occupied.\n",
    "\n",
    "First off, you need to find a partner (like the person next to you!) and you need to communicate your Entity and Namespace hashes to them. Instead of typing them, let's use a shared MQTT topic. Fill in the same partnership nickname here, and then **both run the cell at the same time** (within 3 seconds). If you miss, you will only see your own information, not your partners. If that happens, just run the cell again."
   ]
  },
  {
   "cell_type": "code",
   "execution_count": null,
   "metadata": {},
   "outputs": [],
   "source": [
    "# both you and your partner should pick the SAME unique partnership name here\n",
    "our_partnership_nickname = \"JohnSmithAndBobNeighborhood\" # <<<< **TODO** CHANGE THIS\n",
    "\n",
    "shared_topic=\"partnerships/\"+our_partnership_nickname\n",
    "\n",
    "# print out messages from people looking for partners\n",
    "def looking_for_partner(msg):\n",
    "    # you can comment this out and re-run the cell to turn off these messages if they are annoying\n",
    "    print (str(msg.payload,\"utf8\"))\n",
    "    pass\n",
    "\n",
    "mqtt.subscribe(shared_topic, looking_for_partner)\n",
    "time.sleep(3)\n",
    "mqtt.publish(shared_topic, \n",
    "             \"my nickname=\"+my_unique_nickname+\n",
    "             \"\\nentity hash=\"+hashToBase64(entity.hash)+ \n",
    "             \"\\nhome namespace=\"+hashToBase64(homeserver.namespace()))"
   ]
  },
  {
   "cell_type": "markdown",
   "metadata": {},
   "source": [
    "Get your neighbor to run the above as well, and fill in the fields below. This represents the information that you would typically exchange out of band. Remember to run the cell after you fill it in!"
   ]
  },
  {
   "cell_type": "code",
   "execution_count": null,
   "metadata": {},
   "outputs": [],
   "source": [
    "partner_nickname = \"paste the nickname here\"\n",
    "partner_entity_hash = hashFromBase64( \"paste the entity hash here\" )\n",
    "partner_home_namespace = hashFromBase64 ( \"paste the namespace here\" )\n",
    "\n",
    "# this will catch some simple errors, but not everything, so be careful\n",
    "check_I_pasted_correctly(locals())"
   ]
  },
  {
   "cell_type": "markdown",
   "metadata": {},
   "source": [
    "Decide between you and your partner who is going on vacation (their lights will be controlled) and who is doing the controlling. Each of you follow ONE of the following two sections. When you are done, you can switch\n",
    "\n",
    "## Partner 1: Having your lights controlled:\n",
    "\n",
    "You need to grant the controlling entity (stored in `partner_entity_hash`) permission to control your lights:"
   ]
  },
  {
   "cell_type": "code",
   "execution_count": null,
   "metadata": {},
   "outputs": [],
   "source": [
    "_ = wave.CreateAttestation(wv.CreateAttestationParams(\n",
    "    perspective=perspective,\n",
    "    # this is your PARTNER's entity hash\n",
    "    subjectHash=partner_entity_hash,\n",
    "    publish=True,\n",
    "    policy=wv.Policy(rTreePolicy=wv.RTreePolicy(\n",
    "        # and you are granting them permissions to YOUR house\n",
    "        namespace=homeserver.namespace(),\n",
    "        indirections=5,\n",
    "        statements=[\n",
    "            wv.RTreePolicyStatement(\n",
    "                permissionSet=smarthome_pset,\n",
    "                permissions=[\"write\"],\n",
    "                resource=\"smarthome/light/control\",\n",
    "            )]\n",
    "    ))))\n"
   ]
  },
  {
   "cell_type": "markdown",
   "metadata": {},
   "source": [
    "Note that what you have just done is *delegation*: you received some permissions from the home server entity and you are passing on a subset of those permissions on to your partner. Unfortunately, this is all you have to do for this exercise, lean over and give your partner some help as they build up logic for controlling your lights\n",
    "\n",
    "## Partner 2: Controlling your partner's lights:\n",
    "\n",
    "You need to build a proof that you can control your partner's light:"
   ]
  },
  {
   "cell_type": "code",
   "execution_count": null,
   "metadata": {},
   "outputs": [],
   "source": [
    "partnerlightproof = wave.BuildRTreeProof(wv.BuildRTreeProofParams(\n",
    "    perspective=perspective,\n",
    "    # we want a proof we can control on THEIR namespace\n",
    "    namespace=partner_home_namespace,\n",
    "    # Tell WAVE to look for new permissions\n",
    "    resyncFirst=True,\n",
    "    # what we want to prove\n",
    "    statements=[\n",
    "        wv.RTreePolicyStatement(\n",
    "            permissionSet=smarthome_pset,\n",
    "            permissions=[\"write\"],\n",
    "            resource=\"smarthome/light/control\",\n",
    "        )\n",
    "    ]\n",
    "))\n",
    "\n",
    "if partnerlightproof.error.code != 0:\n",
    "    print (\"Proof building failed:\", partnerlightproof.error.message)\n",
    "else:\n",
    "    print (\"Proof building succeeeded\")"
   ]
  },
  {
   "cell_type": "markdown",
   "metadata": {},
   "source": [
    "If your proof building failed, make sure your partner has run the granting cell above. Once it succeeds, you can use this proof to publish a message. This topic uses THEIR nickname, so it will be delivered to their homeserver that will validate the proof and act upon it.\n"
   ]
  },
  {
   "cell_type": "code",
   "execution_count": null,
   "metadata": {},
   "outputs": [],
   "source": [
    "mqtt.publish(partner_nickname+\"/smarthome/light/control\", composeMessage(partnerlightproof, {\"state\":\"on\"}))"
   ]
  },
  {
   "cell_type": "markdown",
   "metadata": {},
   "source": [
    "By filling in the gaps below, subscribe to **your own** light state and send commands that mirror that state onto your partner's light state."
   ]
  },
  {
   "cell_type": "code",
   "execution_count": null,
   "metadata": {},
   "outputs": [],
   "source": [
    "def light_controller_cb(msg):\n",
    "    # the message we are getting here is our OWN light state\n",
    "    # we need to first decrypt the message\n",
    "    resp = wave.DecryptMessage(wv.DecryptMessageParams(\n",
    "        perspective= perspective,\n",
    "        ciphertext= msg.payload,\n",
    "        resyncFirst= True))\n",
    "    if resp.error.code != 0:\n",
    "        print (\"dropping light state message:\", resp.error.message)\n",
    "        return\n",
    "    # then break it up into proof + body\n",
    "    proof, body = decomposeMessage(resp.content)\n",
    "    \n",
    "    # now validate the proof\n",
    "    resp = wave.VerifyProof(wv.VerifyProofParams(\n",
    "        proofDER=proof,\n",
    "        requiredRTreePolicy=wv.RTreePolicy(\n",
    "            namespace= FILL_ME_IN, #<< fill this in, what namespace should it be?\n",
    "            statements=[wv.RTreePolicyStatement(\n",
    "                permissionSet=smarthome_pset,\n",
    "                permissions=[\"write\"],\n",
    "                resource=\"smarthome/light/report\",\n",
    "            )]\n",
    "        )\n",
    "    ))\n",
    "    if resp.error.code != 0:\n",
    "        print (\"dropping message: \", resp.error.message)\n",
    "        return\n",
    "        \n",
    "    # the proof is valid!\n",
    "    light_state = body[\"state\"] # \"on\" or \"off\"\n",
    "    \n",
    "    # **TODO**\n",
    "    # fill in some code here to send a command to your partner's light that mirrors\n",
    "    # your own light state. You can modify the mqtt publish command above   \n",
    "    \n",
    "mqtt.subscribe(my_unique_nickname+\"/smarthome/light/report\", light_controller_cb)"
   ]
  },
  {
   "cell_type": "markdown",
   "metadata": {},
   "source": [
    "If you get stuck, you can run the cell below to show the solution. Run the cell again to execute the solution"
   ]
  },
  {
   "cell_type": "code",
   "execution_count": null,
   "metadata": {},
   "outputs": [],
   "source": [
    "%load scaffold/solution2.py"
   ]
  },
  {
   "cell_type": "markdown",
   "metadata": {},
   "source": [
    "You have now bound your light to your partner's light. Go turn your light on and off and make sure your partner's light also changes."
   ]
  },
  {
   "cell_type": "markdown",
   "metadata": {},
   "source": [
    "## Bonus section: decrypting your partner's streams"
   ]
  },
  {
   "cell_type": "markdown",
   "metadata": {},
   "source": [
    "If you have a little extra time, feel free to try this one: Your vacation-happy neighbor is having a problem with package theft. He has asked you to create a controller that tells you when he gets a package and he is not home. Everyone in the neighborhood has a smart home with a motion sensor by the front door. They also have thermostats that have occupancy sensors. If there is motion in front of the neighbor's house, and nobody is home, then maybe you should go check for a package.\n",
    "\n",
    "Discuss with your partner who is going on vacation, and who is the kind neighbor picking up packages:\n",
    "\n",
    "## Partner 1: Going on vacation\n",
    "\n",
    "You will need to grant your partner the ability to decrypt your thermostat data (which tells them if the house is occupied by the house sitter or not) and the ability to decrypt the motion sensor data (which tells them a package was delivered."
   ]
  },
  {
   "cell_type": "code",
   "execution_count": null,
   "metadata": {},
   "outputs": [],
   "source": [
    "# grant your partner the ability to decrypt your thermostat data\n",
    "_ = wave.CreateAttestation(wv.CreateAttestationParams(\n",
    "    perspective=perspective,\n",
    "    subjectHash=partner_entity_hash,\n",
    "    publish=True,\n",
    "    policy=wv.Policy(rTreePolicy=wv.RTreePolicy(\n",
    "        namespace=homeserver.namespace(),\n",
    "        indirections=5,\n",
    "        statements=[\n",
    "            wv.RTreePolicyStatement(\n",
    "                # This is a permission set used for special permissions\n",
    "                permissionSet=wv.WaveBuiltinPSET,\n",
    "                # this special permission generates end-to-end decryption keys\n",
    "                permissions=[wv.WaveBuiltinE2EE],\n",
    "                resource=\"smarthome/thermostat/report\",\n",
    "            )]\n",
    "    ))))\n",
    "\n",
    "# and grant them the ability to decrypt your motion sensor\n",
    "_ = wave.CreateAttestation(wv.CreateAttestationParams(\n",
    "    perspective=perspective,\n",
    "    subjectHash=partner_entity_hash,\n",
    "    publish=True,\n",
    "    policy=wv.Policy(rTreePolicy=wv.RTreePolicy(\n",
    "        namespace=homeserver.namespace(),\n",
    "        indirections=5,\n",
    "        statements=[\n",
    "            wv.RTreePolicyStatement(\n",
    "                permissionSet=wv.WaveBuiltinPSET,\n",
    "                permissions=[wv.WaveBuiltinE2EE],\n",
    "                resource=\"smarthome/motion/report\",\n",
    "            )]\n",
    "    ))))"
   ]
  },
  {
   "cell_type": "markdown",
   "metadata": {},
   "source": [
    "## Partner 2: The kind neighbor\n",
    "\n",
    "To check you have permissions, lets try building a proof that you can decrypt the motion sensor data:\n"
   ]
  },
  {
   "cell_type": "code",
   "execution_count": null,
   "metadata": {},
   "outputs": [],
   "source": [
    "decryptmotionproof = wave.BuildRTreeProof(wv.BuildRTreeProofParams(\n",
    "    perspective=perspective,\n",
    "    # the namespace will be our partner's home, not ours\n",
    "    namespace=partner_home_namespace,\n",
    "    # Tell WAVE to look for new permissions\n",
    "    resyncFirst=True,\n",
    "    # what we want to prove\n",
    "    statements=[\n",
    "        wv.RTreePolicyStatement(\n",
    "            permissionSet=wv.WaveBuiltinPSET,\n",
    "            permissions=[wv.WaveBuiltinE2EE],\n",
    "            resource=\"smarthome/motion/report\",\n",
    "        )\n",
    "    ]\n",
    "))\n",
    "\n",
    "if decryptmotionproof.error.code != 0:\n",
    "    print (\"Proof building failed:\", decryptmotionproof.error.message)\n",
    "else:\n",
    "    print (\"Proof building succeeeded\")"
   ]
  },
  {
   "cell_type": "markdown",
   "metadata": {},
   "source": [
    "If the above build failed, check your partner has run the granting cell.\n",
    "\n",
    "Now, by consulting the subscription callbacks you have written in the past, write a controller that listens to and decrypts your neighbors motion and occupancy data, and publishes a notification message to your own homeserver if you need to check for a package because the house sitter is not home. The rough structure looks like this:\n"
   ]
  },
  {
   "cell_type": "code",
   "execution_count": null,
   "metadata": {},
   "outputs": [],
   "source": [
    "partner_occupied = False\n",
    "\n",
    "def partner_motion_cb(msg):\n",
    "    global partner_occupied\n",
    "\n",
    "    # Fill in:\n",
    "    \n",
    "    # Decrypt message\n",
    "    # Verify message\n",
    "    # If partner_occupied is false, write message to your own notification box\n",
    "    # Don't worry about the body of the message, the existence of a message implies\n",
    "    # there was a package delivered\n",
    "        \n",
    "        \n",
    "# This one is done for you\n",
    "def partner_occupancy_cb(msg):\n",
    "    global partner_occupied\n",
    "    # we need to first decrypt the message\n",
    "    resp = wave.DecryptMessage(wv.DecryptMessageParams(\n",
    "        perspective= perspective,\n",
    "        ciphertext= msg.payload,\n",
    "        resyncFirst= True))\n",
    "    if resp.error.code != 0:\n",
    "        print (\"dropping occupancy message:\", resp.error.message)\n",
    "        return\n",
    "    # then break it up into proof + body\n",
    "    proof, body = decomposeMessage(resp.content)\n",
    "    \n",
    "    # now validate the proof\n",
    "    resp = wave.VerifyProof(wv.VerifyProofParams(\n",
    "        proofDER=proof,\n",
    "        requiredRTreePolicy=wv.RTreePolicy(\n",
    "            # this is from our partner's namespace\n",
    "            namespace=partner_home_namespace,\n",
    "            statements=[wv.RTreePolicyStatement(\n",
    "                permissionSet=smarthome_pset,\n",
    "                permissions=[\"write\"],\n",
    "                resource=\"smarthome/thermostat/report\",\n",
    "            )]\n",
    "        )\n",
    "    ))\n",
    "    if resp.error.code != 0:\n",
    "        print (\"dropping occupancy message: \", resp.error.message)\n",
    "        return\n",
    "    \n",
    "    partner_occupied = body[\"occupied\"]\n",
    "    \n",
    "mqtt.subscribe(partner_nickname+\"/smarthome/thermostat/report\", partner_occupancy_cb)\n",
    "mqtt.subscribe(partner_nickname+\"/smarthome/motion/report\", partner_motion_cb)"
   ]
  },
  {
   "cell_type": "markdown",
   "metadata": {},
   "source": [
    "If you get stuck, you can run the cell below to show the solution. Run the cell again to execute the solution"
   ]
  },
  {
   "cell_type": "code",
   "execution_count": null,
   "metadata": {},
   "outputs": [],
   "source": [
    "%load scaffold/solution3.py"
   ]
  }
 ],
 "metadata": {
  "kernelspec": {
   "display_name": "Python 3",
   "language": "python",
   "name": "python3"
  },
  "language_info": {
   "codemirror_mode": {
    "name": "ipython",
    "version": 3
   },
   "file_extension": ".py",
   "mimetype": "text/x-python",
   "name": "python",
   "nbconvert_exporter": "python",
   "pygments_lexer": "ipython3",
   "version": "3.6.3"
  }
 },
 "nbformat": 4,
 "nbformat_minor": 2
}
